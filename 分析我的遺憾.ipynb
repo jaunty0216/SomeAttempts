{
  "nbformat": 4,
  "nbformat_minor": 0,
  "metadata": {
    "colab": {
      "provenance": [],
      "authorship_tag": "ABX9TyP4cS0j8wKnRaYt9OUJdxX4",
      "include_colab_link": true
    },
    "kernelspec": {
      "name": "python3",
      "display_name": "Python 3"
    },
    "language_info": {
      "name": "python"
    }
  },
  "cells": [
    {
      "cell_type": "markdown",
      "metadata": {
        "id": "view-in-github",
        "colab_type": "text"
      },
      "source": [
        "<a href=\"https://colab.research.google.com/github/jaunty0216/SomeAttempts/blob/main/%E5%88%86%E6%9E%90%E6%88%91%E7%9A%84%E9%81%BA%E6%86%BE.ipynb\" target=\"_parent\"><img src=\"https://colab.research.google.com/assets/colab-badge.svg\" alt=\"Open In Colab\"/></a>"
      ]
    },
    {
      "cell_type": "code",
      "execution_count": 16,
      "metadata": {
        "colab": {
          "base_uri": "https://localhost:8080/",
          "height": 77
        },
        "id": "yRuVhTN2lfpB",
        "outputId": "8f7a7bb1-cb8f-4674-c08b-5eedfec5a9b5"
      },
      "outputs": [
        {
          "output_type": "display_data",
          "data": {
            "text/plain": [
              "<IPython.core.display.HTML object>"
            ],
            "text/html": [
              "\n",
              "     <input type=\"file\" id=\"files-ebb4d9c1-256a-46ff-a0d8-45c5aea8b124\" name=\"files[]\" multiple disabled\n",
              "        style=\"border:none\" />\n",
              "     <output id=\"result-ebb4d9c1-256a-46ff-a0d8-45c5aea8b124\">\n",
              "      Upload widget is only available when the cell has been executed in the\n",
              "      current browser session. Please rerun this cell to enable.\n",
              "      </output>\n",
              "      <script>// Copyright 2017 Google LLC\n",
              "//\n",
              "// Licensed under the Apache License, Version 2.0 (the \"License\");\n",
              "// you may not use this file except in compliance with the License.\n",
              "// You may obtain a copy of the License at\n",
              "//\n",
              "//      http://www.apache.org/licenses/LICENSE-2.0\n",
              "//\n",
              "// Unless required by applicable law or agreed to in writing, software\n",
              "// distributed under the License is distributed on an \"AS IS\" BASIS,\n",
              "// WITHOUT WARRANTIES OR CONDITIONS OF ANY KIND, either express or implied.\n",
              "// See the License for the specific language governing permissions and\n",
              "// limitations under the License.\n",
              "\n",
              "/**\n",
              " * @fileoverview Helpers for google.colab Python module.\n",
              " */\n",
              "(function(scope) {\n",
              "function span(text, styleAttributes = {}) {\n",
              "  const element = document.createElement('span');\n",
              "  element.textContent = text;\n",
              "  for (const key of Object.keys(styleAttributes)) {\n",
              "    element.style[key] = styleAttributes[key];\n",
              "  }\n",
              "  return element;\n",
              "}\n",
              "\n",
              "// Max number of bytes which will be uploaded at a time.\n",
              "const MAX_PAYLOAD_SIZE = 100 * 1024;\n",
              "\n",
              "function _uploadFiles(inputId, outputId) {\n",
              "  const steps = uploadFilesStep(inputId, outputId);\n",
              "  const outputElement = document.getElementById(outputId);\n",
              "  // Cache steps on the outputElement to make it available for the next call\n",
              "  // to uploadFilesContinue from Python.\n",
              "  outputElement.steps = steps;\n",
              "\n",
              "  return _uploadFilesContinue(outputId);\n",
              "}\n",
              "\n",
              "// This is roughly an async generator (not supported in the browser yet),\n",
              "// where there are multiple asynchronous steps and the Python side is going\n",
              "// to poll for completion of each step.\n",
              "// This uses a Promise to block the python side on completion of each step,\n",
              "// then passes the result of the previous step as the input to the next step.\n",
              "function _uploadFilesContinue(outputId) {\n",
              "  const outputElement = document.getElementById(outputId);\n",
              "  const steps = outputElement.steps;\n",
              "\n",
              "  const next = steps.next(outputElement.lastPromiseValue);\n",
              "  return Promise.resolve(next.value.promise).then((value) => {\n",
              "    // Cache the last promise value to make it available to the next\n",
              "    // step of the generator.\n",
              "    outputElement.lastPromiseValue = value;\n",
              "    return next.value.response;\n",
              "  });\n",
              "}\n",
              "\n",
              "/**\n",
              " * Generator function which is called between each async step of the upload\n",
              " * process.\n",
              " * @param {string} inputId Element ID of the input file picker element.\n",
              " * @param {string} outputId Element ID of the output display.\n",
              " * @return {!Iterable<!Object>} Iterable of next steps.\n",
              " */\n",
              "function* uploadFilesStep(inputId, outputId) {\n",
              "  const inputElement = document.getElementById(inputId);\n",
              "  inputElement.disabled = false;\n",
              "\n",
              "  const outputElement = document.getElementById(outputId);\n",
              "  outputElement.innerHTML = '';\n",
              "\n",
              "  const pickedPromise = new Promise((resolve) => {\n",
              "    inputElement.addEventListener('change', (e) => {\n",
              "      resolve(e.target.files);\n",
              "    });\n",
              "  });\n",
              "\n",
              "  const cancel = document.createElement('button');\n",
              "  inputElement.parentElement.appendChild(cancel);\n",
              "  cancel.textContent = 'Cancel upload';\n",
              "  const cancelPromise = new Promise((resolve) => {\n",
              "    cancel.onclick = () => {\n",
              "      resolve(null);\n",
              "    };\n",
              "  });\n",
              "\n",
              "  // Wait for the user to pick the files.\n",
              "  const files = yield {\n",
              "    promise: Promise.race([pickedPromise, cancelPromise]),\n",
              "    response: {\n",
              "      action: 'starting',\n",
              "    }\n",
              "  };\n",
              "\n",
              "  cancel.remove();\n",
              "\n",
              "  // Disable the input element since further picks are not allowed.\n",
              "  inputElement.disabled = true;\n",
              "\n",
              "  if (!files) {\n",
              "    return {\n",
              "      response: {\n",
              "        action: 'complete',\n",
              "      }\n",
              "    };\n",
              "  }\n",
              "\n",
              "  for (const file of files) {\n",
              "    const li = document.createElement('li');\n",
              "    li.append(span(file.name, {fontWeight: 'bold'}));\n",
              "    li.append(span(\n",
              "        `(${file.type || 'n/a'}) - ${file.size} bytes, ` +\n",
              "        `last modified: ${\n",
              "            file.lastModifiedDate ? file.lastModifiedDate.toLocaleDateString() :\n",
              "                                    'n/a'} - `));\n",
              "    const percent = span('0% done');\n",
              "    li.appendChild(percent);\n",
              "\n",
              "    outputElement.appendChild(li);\n",
              "\n",
              "    const fileDataPromise = new Promise((resolve) => {\n",
              "      const reader = new FileReader();\n",
              "      reader.onload = (e) => {\n",
              "        resolve(e.target.result);\n",
              "      };\n",
              "      reader.readAsArrayBuffer(file);\n",
              "    });\n",
              "    // Wait for the data to be ready.\n",
              "    let fileData = yield {\n",
              "      promise: fileDataPromise,\n",
              "      response: {\n",
              "        action: 'continue',\n",
              "      }\n",
              "    };\n",
              "\n",
              "    // Use a chunked sending to avoid message size limits. See b/62115660.\n",
              "    let position = 0;\n",
              "    do {\n",
              "      const length = Math.min(fileData.byteLength - position, MAX_PAYLOAD_SIZE);\n",
              "      const chunk = new Uint8Array(fileData, position, length);\n",
              "      position += length;\n",
              "\n",
              "      const base64 = btoa(String.fromCharCode.apply(null, chunk));\n",
              "      yield {\n",
              "        response: {\n",
              "          action: 'append',\n",
              "          file: file.name,\n",
              "          data: base64,\n",
              "        },\n",
              "      };\n",
              "\n",
              "      let percentDone = fileData.byteLength === 0 ?\n",
              "          100 :\n",
              "          Math.round((position / fileData.byteLength) * 100);\n",
              "      percent.textContent = `${percentDone}% done`;\n",
              "\n",
              "    } while (position < fileData.byteLength);\n",
              "  }\n",
              "\n",
              "  // All done.\n",
              "  yield {\n",
              "    response: {\n",
              "      action: 'complete',\n",
              "    }\n",
              "  };\n",
              "}\n",
              "\n",
              "scope.google = scope.google || {};\n",
              "scope.google.colab = scope.google.colab || {};\n",
              "scope.google.colab._files = {\n",
              "  _uploadFiles,\n",
              "  _uploadFilesContinue,\n",
              "};\n",
              "})(self);\n",
              "</script> "
            ]
          },
          "metadata": {}
        },
        {
          "output_type": "stream",
          "name": "stdout",
          "text": [
            "Saving 20250508.txt to 20250508.txt\n"
          ]
        }
      ],
      "source": [
        "from google.colab import files\n",
        "upload = files.upload()"
      ]
    },
    {
      "cell_type": "code",
      "source": [
        "import pandas as pd\n",
        "\n",
        "#取得檔案名稱\n",
        "for filename,_ in upload.items():\n",
        "  print(filename)\n",
        "\n",
        "df = pd.read_table(filename)\n",
        "print(df.head())"
      ],
      "metadata": {
        "colab": {
          "base_uri": "https://localhost:8080/"
        },
        "id": "seJXaGxMmSVM",
        "outputId": "3c0e661e-4afc-4f32-9a2e-e7df8f7e37c1"
      },
      "execution_count": 26,
      "outputs": [
        {
          "output_type": "stream",
          "name": "stdout",
          "text": [
            "20250508.txt\n",
            "    那一天終究是到來了\n",
            "0      昨天才改選完\n",
            "1    社長任期要結束了\n",
            "2     我們的關係也是\n",
            "3  真的完全沒有感覺嗎?\n",
            "4      多少還是有的\n"
          ]
        }
      ]
    },
    {
      "cell_type": "code",
      "source": [
        "# prompt: 把這份dataframe儲存到一個google sheet的第一頁，連結為\"mylink_1\"\n",
        "\n",
        "from google.colab import auth\n",
        "from google.auth import default\n",
        "import gspread\n",
        "\n",
        "mylink_1 = \"https://docs.google.com/spreadsheets/d/1BJyEqA7knjGaNO3tbkHGVia7vNWXycEh8BZZUHaqZMM/edit?usp=sharing\"\n",
        "# Authenticate and create the gspread client\n",
        "auth.authenticate_user()\n",
        "creds,kkk = default()\n",
        "gc = gspread.authorize(creds)\n",
        "\n",
        "# Open the spreadsheet\n",
        "spreadsheet = gc.open_by_url(mylink_1)\n",
        "\n",
        "# Select the first sheet (index 0)\n",
        "worksheet = spreadsheet.get_worksheet(0)\n",
        "\n",
        "# Convert the DataFrame to a list of lists and update the sheet\n",
        "worksheet.update([df.columns.values.tolist()] + df.values.tolist())"
      ],
      "metadata": {
        "colab": {
          "base_uri": "https://localhost:8080/"
        },
        "id": "v-QzP9Kxm10a",
        "outputId": "1ae97298-ecd4-4c44-9990-447ebed92848"
      },
      "execution_count": 43,
      "outputs": [
        {
          "output_type": "execute_result",
          "data": {
            "text/plain": [
              "{'spreadsheetId': '1BJyEqA7knjGaNO3tbkHGVia7vNWXycEh8BZZUHaqZMM',\n",
              " 'updatedRange': \"'工作表1'!A1:A110\",\n",
              " 'updatedRows': 110,\n",
              " 'updatedColumns': 1,\n",
              " 'updatedCells': 110}"
            ]
          },
          "metadata": {},
          "execution_count": 43
        }
      ]
    },
    {
      "cell_type": "code",
      "source": [
        "from google.colab import userdata\n",
        "GOOGLE_API_KEY = userdata.get('GOOGLE_API_KEY')\n",
        "\n",
        "import google.generativeai as genai\n",
        "genai.configure(api_key=GOOGLE_API_KEY)\n",
        "model = genai.GenerativeModel(\"gemini-2.0-flash\")\n",
        "\n",
        "complain = df.to_string()\n",
        "prompt = f\"根據下面內容，分析一下作者遇到了甚麼問題{complain}\"\n",
        "response = model.generate_content(prompt)\n",
        "print(response.text)"
      ],
      "metadata": {
        "colab": {
          "base_uri": "https://localhost:8080/",
          "height": 311
        },
        "id": "ZieLobPOpEN7",
        "outputId": "ac389cd3-4227-4279-8cb6-ecd5f5063835"
      },
      "execution_count": 52,
      "outputs": [
        {
          "output_type": "stream",
          "name": "stdout",
          "text": [
            "從這段文字中，可以看出作者正面臨以下幾個主要問題：\n",
            "\n",
            "* **對這段關係的質疑與幻滅：**  這是最核心的問題。作者對這段關係的價值和意義產生了強烈的懷疑。  從一開始對前任的背叛和帶來的痛苦，到後來對方放棄夢想，都讓作者無法說服自己繼續下去。 他質疑為何要和一個曾經傷害自己，且中途放棄的人在一起，這樣的關係是否能共同發展。\n",
            "* **對前任的不滿和失望：** 作者對前任的行為感到不滿和失望。\n",
            "    *  背叛： 作者明顯受到前任背叛的傷害，即使時間過去，這個陰影依然存在。\n",
            "    *  放棄夢想： 前任放棄特教老師的夢想，讓作者感到震驚，也質疑對方對重要事情的態度。\n",
            "    *  對約定的輕忽： \"明信片\"事件顯示對方對約定的承諾不夠重視，讓作者感到不被尊重。\n",
            "    *  中途放棄社團: 導致作者獨自承擔重擔。\n",
            "* **理想與現實的衝突：** 作者內心渴望的是一段可以共同成長、一起努力的關係，就像其他社團的情侶一樣。但現實是，他與前任的關係缺乏這種共同性，這讓他感到沮喪和不甘心。\n",
            "* **對遺憾的恐懼與放下：** 作者曾害怕因為沒有追求前任而留下遺憾，所以選擇開始這段關係。 但現在他意識到，這段關係的意義或許就在於讓他能夠放下這份「遺憾」，即使他們之間沒有未來。\n",
            "* **社團責任與感情之間的掙扎：** 作者身為社長，承受著巨大的壓力，他覺得自己不能倒下，因為社團需要他。 這份責任感也影響了他對感情的判斷，讓他覺得這段感情有時候並不健康，需要放手。\n",
            "* **分手的決定與釋懷：** 作者已經做出了分手的決定，並努力說服自己這是正確的選擇。 他感覺到釋然，但也伴隨著一些可惜，因為他們之間還有許多未完成的約定。\n",
            "\n",
            "總之，作者的問題核心在於他對這段關係的意義產生了根本的懷疑，理想與現實的落差，以及對前任行為的失望。 經過一段時間的掙扎和反思，他最終選擇了放下，並希望能從這段經歷中獲得成長。\n",
            "\n"
          ]
        }
      ]
    },
    {
      "cell_type": "code",
      "source": [
        "prompt = f\"作者還有那些沒有做的事呢?根據以下內容{complain}\"\n",
        "response = model.generate_content(prompt)\n",
        "print(response.text)"
      ],
      "metadata": {
        "colab": {
          "base_uri": "https://localhost:8080/",
          "height": 218
        },
        "id": "y9-905VzqzXv",
        "outputId": "6f6cbec6-8874-47f3-ece5-11b2d90a922a"
      },
      "execution_count": 54,
      "outputs": [
        {
          "output_type": "stream",
          "name": "stdout",
          "text": [
            "根據內容，作者還有以下未完成的事：\n",
            "\n",
            "*   **一起去饒河夜市喝泰奶。** (81)\n",
            "*   **去公館附近的爬蟲咖啡廳。** (82)\n",
            "*   **去兒童新樂園玩。** (83)\n",
            "*   **去踩點IG上的網紅餐廳。** (84)\n",
            "*   **把手上的白色情人節巧克力送出去。** (85)\n",
            "*   **用電繪畫一張給妳的明信片。** (86)\n",
            "\n",
            "總結，作者原本規劃了很多約會行程和特別的禮物，但因為種種原因最終都沒有實現。\n",
            "\n"
          ]
        }
      ]
    },
    {
      "cell_type": "code",
      "source": [],
      "metadata": {
        "id": "WsHZG5RNtdEb"
      },
      "execution_count": null,
      "outputs": []
    }
  ]
}