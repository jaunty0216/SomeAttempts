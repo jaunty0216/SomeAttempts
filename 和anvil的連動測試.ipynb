{
  "nbformat": 4,
  "nbformat_minor": 0,
  "metadata": {
    "colab": {
      "provenance": [],
      "authorship_tag": "ABX9TyMIGVF3rjvaMwhHz5ki5Gph",
      "include_colab_link": true
    },
    "kernelspec": {
      "name": "python3",
      "display_name": "Python 3"
    },
    "language_info": {
      "name": "python"
    }
  },
  "cells": [
    {
      "cell_type": "markdown",
      "metadata": {
        "id": "view-in-github",
        "colab_type": "text"
      },
      "source": [
        "<a href=\"https://colab.research.google.com/github/jaunty0216/SomeAttempts/blob/main/%E5%92%8Canvil%E7%9A%84%E9%80%A3%E5%8B%95%E6%B8%AC%E8%A9%A6.ipynb\" target=\"_parent\"><img src=\"https://colab.research.google.com/assets/colab-badge.svg\" alt=\"Open In Colab\"/></a>"
      ]
    },
    {
      "cell_type": "code",
      "execution_count": 13,
      "metadata": {
        "id": "WYybbHA4kHvX"
      },
      "outputs": [],
      "source": [
        "def adding():\n",
        "  x = int(input(\"Enter first integer: \"))\n",
        "  y = int(input(\"Enter second integer: \"))\n",
        "  print(f'Here is the result: {x+y}')"
      ]
    }
  ]
}