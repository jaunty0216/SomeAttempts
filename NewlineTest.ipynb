{
  "nbformat": 4,
  "nbformat_minor": 0,
  "metadata": {
    "colab": {
      "provenance": [],
      "authorship_tag": "ABX9TyM6yDKBucX7vTKYazbeLw3S",
      "include_colab_link": true
    },
    "kernelspec": {
      "name": "python3",
      "display_name": "Python 3"
    },
    "language_info": {
      "name": "python"
    }
  },
  "cells": [
    {
      "cell_type": "markdown",
      "metadata": {
        "id": "view-in-github",
        "colab_type": "text"
      },
      "source": [
        "<a href=\"https://colab.research.google.com/github/jaunty0216/SomeAttempts/blob/main/NewlineTest.ipynb\" target=\"_parent\"><img src=\"https://colab.research.google.com/assets/colab-badge.svg\" alt=\"Open In Colab\"/></a>"
      ]
    },
    {
      "cell_type": "code",
      "execution_count": 14,
      "metadata": {
        "colab": {
          "base_uri": "https://localhost:8080/",
          "height": 225
        },
        "id": "yPgVTys8PViq",
        "outputId": "bbe7aa3a-1d19-4641-ea1f-a79c9738fdba"
      },
      "outputs": [
        {
          "output_type": "stream",
          "name": "stdout",
          "text": [
            "Enter a promptcould you tell me the benefit of playing video games?\n",
            "Playing video games can enhance cognitive skills,\n",
            "improving problem-solving abilities and critical thinking.  They can boost reaction time and\n",
            "spatial reasoning, skills applicable in many areas of life.  Many games encourage teamwork and\n",
            "collaboration, fostering communication and social interaction.  Furthermore, video games can\n",
            "provide a creative outlet, allowing for self-expression and exploration.  They offer a\n",
            "sense of accomplishment and mastery, building confidence and resilience.  The immersive\n",
            "nature of some games can help with stress relief and relaxation.  Games can also be a great\n",
            "way to connect with friends and family, strengthening social bonds.  Exposure to diverse\n",
            "perspectives and cultures within games can broaden horizons.  Finally, problem-solving in\n",
            "games can translate to real-world problem-solving skills.\n",
            "\n"
          ]
        }
      ],
      "source": [
        "from google.colab import userdata\n",
        "GOOGLE_API_KEY = userdata.get('GOOGLE_API_KEY')\n",
        "\n",
        "import google.generativeai as genai\n",
        "genai.configure(api_key=GOOGLE_API_KEY)\n",
        "model = genai.GenerativeModel(\"gemini-1.5-flash\")\n",
        "\n",
        "prompt = input(\"Enter a prompt\") #prompt\n",
        "response = model.generate_content(f\"{prompt},the sentence will newline for every 20 words.\") #根據prompt做回應\n",
        "print(response.text)  #輸出"
      ]
    },
    {
      "cell_type": "code",
      "source": [],
      "metadata": {
        "id": "ZpAUArJyQZu8"
      },
      "execution_count": null,
      "outputs": []
    }
  ]
}