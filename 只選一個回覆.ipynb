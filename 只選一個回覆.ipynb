{
  "nbformat": 4,
  "nbformat_minor": 0,
  "metadata": {
    "colab": {
      "provenance": [],
      "authorship_tag": "ABX9TyPnJucuFVEVsfTWSVtF+0jg",
      "include_colab_link": true
    },
    "kernelspec": {
      "name": "python3",
      "display_name": "Python 3"
    },
    "language_info": {
      "name": "python"
    }
  },
  "cells": [
    {
      "cell_type": "markdown",
      "metadata": {
        "id": "view-in-github",
        "colab_type": "text"
      },
      "source": [
        "<a href=\"https://colab.research.google.com/github/jaunty0216/SomeAttempts/blob/main/%E5%8F%AA%E9%81%B8%E4%B8%80%E5%80%8B%E5%9B%9E%E8%A6%86.ipynb\" target=\"_parent\"><img src=\"https://colab.research.google.com/assets/colab-badge.svg\" alt=\"Open In Colab\"/></a>"
      ]
    },
    {
      "cell_type": "code",
      "execution_count": null,
      "metadata": {
        "colab": {
          "base_uri": "https://localhost:8080/",
          "height": 332
        },
        "id": "qBcL1CybjlAI",
        "outputId": "f2dd372d-1fbd-4937-c3db-6e1fe1658a0e"
      },
      "outputs": [
        {
          "output_type": "stream",
          "name": "stdout",
          "text": [
            "我甚麼都會，問都問！Whether to eat tomato?\n",
            "Whether or not to eat a tomato depends entirely on your personal preferences and circumstances:\n",
            "\n",
            "* **Do you like the taste?**  This is the most important factor. If you don't enjoy the taste of tomatoes, you don't have to eat them.\n",
            "\n",
            "* **Are you allergic?**  A tomato allergy is rare but possible.  If you're allergic, avoid them.\n",
            "\n",
            "* **Are you on a specific diet?** Some diets restrict tomatoes (e.g., very low potassium diets). Check your dietary guidelines.\n",
            "\n",
            "* **Are they part of a healthy meal?** Tomatoes are a good source of vitamins and antioxidants, so including them in a balanced diet can be beneficial.\n",
            "\n",
            "* **Are they ripe and fresh?**  A bad tomato can ruin a dish.  Choose ripe, firm tomatoes for the best flavor and texture.\n",
            "\n",
            "In short, there's no universal \"yes\" or \"no\" answer.  It's a personal choice based on your individual needs and preferences.\n",
            "\n",
            "This is a well-written and comprehensive explanation of the factors influencing whether or not someone should eat a tomato.  It covers the key aspects clearly and concisely: personal taste, allergies, dietary restrictions, health benefits, and quality of the tomato itself.  The conclusion effectively summarizes the point that it's a subjective decision.  There's nothing to improve; it's a good, informative response.\n",
            "\n"
          ]
        }
      ],
      "source": [
        "from google.colab import userdata\n",
        "GOOGLE_API_KEY = userdata.get('GOOGLE_API_KEY')\n",
        "\n",
        "import google.generativeai as genai\n",
        "genai.configure(api_key=GOOGLE_API_KEY)\n",
        "model1 = genai.GenerativeModel(\"gemini-1.5-flash\")\n",
        "model2 = genai.GenerativeModel(\"gemini-1.5-flash\")\n",
        "\n",
        "prompt = input(\"我甚麼都會，問都問！\")\n",
        "respond = model1.generate_content(prompt)\n",
        "print(respond.text)\n",
        "SecondOrator = model2.generate_content(respond.text)\n",
        "print(SecondOrator.text)"
      ]
    },
    {
      "cell_type": "code",
      "source": [],
      "metadata": {
        "id": "X_nFML85mN2U"
      },
      "execution_count": null,
      "outputs": []
    }
  ]
}