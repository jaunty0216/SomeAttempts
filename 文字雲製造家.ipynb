{
  "nbformat": 4,
  "nbformat_minor": 0,
  "metadata": {
    "colab": {
      "provenance": [],
      "authorship_tag": "ABX9TyOMxLSpnjDhuDIqEewikYUh",
      "include_colab_link": true
    },
    "kernelspec": {
      "name": "python3",
      "display_name": "Python 3"
    },
    "language_info": {
      "name": "python"
    }
  },
  "cells": [
    {
      "cell_type": "markdown",
      "metadata": {
        "id": "view-in-github",
        "colab_type": "text"
      },
      "source": [
        "<a href=\"https://colab.research.google.com/github/jaunty0216/SomeAttempts/blob/main/%E6%96%87%E5%AD%97%E9%9B%B2%E8%A3%BD%E9%80%A0%E5%AE%B6.ipynb\" target=\"_parent\"><img src=\"https://colab.research.google.com/assets/colab-badge.svg\" alt=\"Open In Colab\"/></a>"
      ]
    },
    {
      "cell_type": "code",
      "source": [
        "!pip install jieba"
      ],
      "metadata": {
        "colab": {
          "base_uri": "https://localhost:8080/"
        },
        "id": "rhIIXTFXug-S",
        "outputId": "fafed6e1-da1f-40b9-8288-04eefd54fde7"
      },
      "execution_count": 1,
      "outputs": [
        {
          "output_type": "stream",
          "name": "stdout",
          "text": [
            "Requirement already satisfied: jieba in /usr/local/lib/python3.11/dist-packages (0.42.1)\n"
          ]
        }
      ]
    },
    {
      "cell_type": "code",
      "source": [
        "def Paintit():\n",
        "  from google.colab import files\n",
        "  uploaded = files.upload()\n",
        "\n",
        "  for filename,_ in uploaded.items():\n",
        "    filepath = f\"/content/{filename}\"\n",
        "    print(f\"Filepath: {filepath}\")\n",
        "\n",
        "  import pandas as pd\n",
        "  import jieba\n",
        "  OriginFile = pd.read_table(filepath)\n",
        "  Origin_df = pd.DataFrame(OriginFile,columns=['contents'])\n",
        "\n",
        "  for _, content in Origin_df.iterrows():\n",
        "    word = content['contents']\n",
        "    jieba.add_word(word, freq=10000)\n",
        "    jieba.suggest_freq(word, tune=True)"
      ],
      "metadata": {
        "id": "-M-9pFmWu8b4"
      },
      "execution_count": 3,
      "outputs": []
    },
    {
      "cell_type": "code",
      "source": [],
      "metadata": {
        "id": "ocF53k8ZvRTx"
      },
      "execution_count": null,
      "outputs": []
    }
  ]
}